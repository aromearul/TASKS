{
 "cells": [
  {
   "cell_type": "raw",
   "id": "600af7df",
   "metadata": {},
   "source": [
    "import numpy as np\n",
    "import pandas as pd\n",
    "import matplotlib.pyplot as plt\n",
    "from sklearn.model_selection import train_test_split\n",
    "from sklearn.linear_model import LinearRegression\n",
    "from sklearn.metrics import mean_squared_error, r2_score"
   ]
  },
  {
   "cell_type": "code",
   "execution_count": 2,
   "id": "8a9a3884",
   "metadata": {},
   "outputs": [],
   "source": [
    "data = pd.read_csv('NIFTY50_all.csv')"
   ]
  },
  {
   "cell_type": "code",
   "execution_count": 3,
   "id": "0fb80fa2",
   "metadata": {},
   "outputs": [
    {
     "data": {
      "text/html": [
       "<div>\n",
       "<style scoped>\n",
       "    .dataframe tbody tr th:only-of-type {\n",
       "        vertical-align: middle;\n",
       "    }\n",
       "\n",
       "    .dataframe tbody tr th {\n",
       "        vertical-align: top;\n",
       "    }\n",
       "\n",
       "    .dataframe thead th {\n",
       "        text-align: right;\n",
       "    }\n",
       "</style>\n",
       "<table border=\"1\" class=\"dataframe\">\n",
       "  <thead>\n",
       "    <tr style=\"text-align: right;\">\n",
       "      <th></th>\n",
       "      <th>Date</th>\n",
       "      <th>Symbol</th>\n",
       "      <th>Series</th>\n",
       "      <th>Prev Close</th>\n",
       "      <th>Open</th>\n",
       "      <th>High</th>\n",
       "      <th>Low</th>\n",
       "      <th>Last</th>\n",
       "      <th>Close</th>\n",
       "      <th>VWAP</th>\n",
       "      <th>Volume</th>\n",
       "      <th>Turnover</th>\n",
       "      <th>Trades</th>\n",
       "      <th>Deliverable Volume</th>\n",
       "      <th>%Deliverble</th>\n",
       "    </tr>\n",
       "  </thead>\n",
       "  <tbody>\n",
       "    <tr>\n",
       "      <th>0</th>\n",
       "      <td>2007-11-27</td>\n",
       "      <td>MUNDRAPORT</td>\n",
       "      <td>EQ</td>\n",
       "      <td>440.00</td>\n",
       "      <td>770.00</td>\n",
       "      <td>1050.00</td>\n",
       "      <td>770.00</td>\n",
       "      <td>959.00</td>\n",
       "      <td>962.90</td>\n",
       "      <td>984.72</td>\n",
       "      <td>27294366</td>\n",
       "      <td>2.687719e+15</td>\n",
       "      <td>NaN</td>\n",
       "      <td>9859619.0</td>\n",
       "      <td>0.3612</td>\n",
       "    </tr>\n",
       "    <tr>\n",
       "      <th>1</th>\n",
       "      <td>2007-11-28</td>\n",
       "      <td>MUNDRAPORT</td>\n",
       "      <td>EQ</td>\n",
       "      <td>962.90</td>\n",
       "      <td>984.00</td>\n",
       "      <td>990.00</td>\n",
       "      <td>874.00</td>\n",
       "      <td>885.00</td>\n",
       "      <td>893.90</td>\n",
       "      <td>941.38</td>\n",
       "      <td>4581338</td>\n",
       "      <td>4.312765e+14</td>\n",
       "      <td>NaN</td>\n",
       "      <td>1453278.0</td>\n",
       "      <td>0.3172</td>\n",
       "    </tr>\n",
       "    <tr>\n",
       "      <th>2</th>\n",
       "      <td>2007-11-29</td>\n",
       "      <td>MUNDRAPORT</td>\n",
       "      <td>EQ</td>\n",
       "      <td>893.90</td>\n",
       "      <td>909.00</td>\n",
       "      <td>914.75</td>\n",
       "      <td>841.00</td>\n",
       "      <td>887.00</td>\n",
       "      <td>884.20</td>\n",
       "      <td>888.09</td>\n",
       "      <td>5124121</td>\n",
       "      <td>4.550658e+14</td>\n",
       "      <td>NaN</td>\n",
       "      <td>1069678.0</td>\n",
       "      <td>0.2088</td>\n",
       "    </tr>\n",
       "    <tr>\n",
       "      <th>3</th>\n",
       "      <td>2007-11-30</td>\n",
       "      <td>MUNDRAPORT</td>\n",
       "      <td>EQ</td>\n",
       "      <td>884.20</td>\n",
       "      <td>890.00</td>\n",
       "      <td>958.00</td>\n",
       "      <td>890.00</td>\n",
       "      <td>929.00</td>\n",
       "      <td>921.55</td>\n",
       "      <td>929.17</td>\n",
       "      <td>4609762</td>\n",
       "      <td>4.283257e+14</td>\n",
       "      <td>NaN</td>\n",
       "      <td>1260913.0</td>\n",
       "      <td>0.2735</td>\n",
       "    </tr>\n",
       "    <tr>\n",
       "      <th>4</th>\n",
       "      <td>2007-12-03</td>\n",
       "      <td>MUNDRAPORT</td>\n",
       "      <td>EQ</td>\n",
       "      <td>921.55</td>\n",
       "      <td>939.75</td>\n",
       "      <td>995.00</td>\n",
       "      <td>922.00</td>\n",
       "      <td>980.00</td>\n",
       "      <td>969.30</td>\n",
       "      <td>965.65</td>\n",
       "      <td>2977470</td>\n",
       "      <td>2.875200e+14</td>\n",
       "      <td>NaN</td>\n",
       "      <td>816123.0</td>\n",
       "      <td>0.2741</td>\n",
       "    </tr>\n",
       "    <tr>\n",
       "      <th>...</th>\n",
       "      <td>...</td>\n",
       "      <td>...</td>\n",
       "      <td>...</td>\n",
       "      <td>...</td>\n",
       "      <td>...</td>\n",
       "      <td>...</td>\n",
       "      <td>...</td>\n",
       "      <td>...</td>\n",
       "      <td>...</td>\n",
       "      <td>...</td>\n",
       "      <td>...</td>\n",
       "      <td>...</td>\n",
       "      <td>...</td>\n",
       "      <td>...</td>\n",
       "      <td>...</td>\n",
       "    </tr>\n",
       "    <tr>\n",
       "      <th>235187</th>\n",
       "      <td>2021-04-26</td>\n",
       "      <td>ZEEL</td>\n",
       "      <td>EQ</td>\n",
       "      <td>188.00</td>\n",
       "      <td>190.60</td>\n",
       "      <td>191.10</td>\n",
       "      <td>185.10</td>\n",
       "      <td>186.70</td>\n",
       "      <td>186.40</td>\n",
       "      <td>187.35</td>\n",
       "      <td>8542755</td>\n",
       "      <td>1.600451e+14</td>\n",
       "      <td>52374.0</td>\n",
       "      <td>2340188.0</td>\n",
       "      <td>0.2739</td>\n",
       "    </tr>\n",
       "    <tr>\n",
       "      <th>235188</th>\n",
       "      <td>2021-04-27</td>\n",
       "      <td>ZEEL</td>\n",
       "      <td>EQ</td>\n",
       "      <td>186.40</td>\n",
       "      <td>188.00</td>\n",
       "      <td>192.95</td>\n",
       "      <td>186.80</td>\n",
       "      <td>188.80</td>\n",
       "      <td>188.15</td>\n",
       "      <td>189.41</td>\n",
       "      <td>14247767</td>\n",
       "      <td>2.698636e+14</td>\n",
       "      <td>73673.0</td>\n",
       "      <td>5425957.0</td>\n",
       "      <td>0.3808</td>\n",
       "    </tr>\n",
       "    <tr>\n",
       "      <th>235189</th>\n",
       "      <td>2021-04-28</td>\n",
       "      <td>ZEEL</td>\n",
       "      <td>EQ</td>\n",
       "      <td>188.15</td>\n",
       "      <td>188.80</td>\n",
       "      <td>190.60</td>\n",
       "      <td>187.10</td>\n",
       "      <td>188.95</td>\n",
       "      <td>189.10</td>\n",
       "      <td>188.85</td>\n",
       "      <td>8429439</td>\n",
       "      <td>1.591917e+14</td>\n",
       "      <td>44056.0</td>\n",
       "      <td>2413974.0</td>\n",
       "      <td>0.2864</td>\n",
       "    </tr>\n",
       "    <tr>\n",
       "      <th>235190</th>\n",
       "      <td>2021-04-29</td>\n",
       "      <td>ZEEL</td>\n",
       "      <td>EQ</td>\n",
       "      <td>189.10</td>\n",
       "      <td>190.80</td>\n",
       "      <td>191.65</td>\n",
       "      <td>186.00</td>\n",
       "      <td>186.60</td>\n",
       "      <td>186.55</td>\n",
       "      <td>187.44</td>\n",
       "      <td>9483009</td>\n",
       "      <td>1.777471e+14</td>\n",
       "      <td>60932.0</td>\n",
       "      <td>2744472.0</td>\n",
       "      <td>0.2894</td>\n",
       "    </tr>\n",
       "    <tr>\n",
       "      <th>235191</th>\n",
       "      <td>2021-04-30</td>\n",
       "      <td>ZEEL</td>\n",
       "      <td>EQ</td>\n",
       "      <td>186.55</td>\n",
       "      <td>185.30</td>\n",
       "      <td>190.95</td>\n",
       "      <td>183.65</td>\n",
       "      <td>185.00</td>\n",
       "      <td>185.60</td>\n",
       "      <td>187.53</td>\n",
       "      <td>11435285</td>\n",
       "      <td>2.144440e+14</td>\n",
       "      <td>62607.0</td>\n",
       "      <td>3323909.0</td>\n",
       "      <td>0.2907</td>\n",
       "    </tr>\n",
       "  </tbody>\n",
       "</table>\n",
       "<p>235192 rows × 15 columns</p>\n",
       "</div>"
      ],
      "text/plain": [
       "              Date      Symbol Series  Prev Close    Open     High     Low  \\\n",
       "0       2007-11-27  MUNDRAPORT     EQ      440.00  770.00  1050.00  770.00   \n",
       "1       2007-11-28  MUNDRAPORT     EQ      962.90  984.00   990.00  874.00   \n",
       "2       2007-11-29  MUNDRAPORT     EQ      893.90  909.00   914.75  841.00   \n",
       "3       2007-11-30  MUNDRAPORT     EQ      884.20  890.00   958.00  890.00   \n",
       "4       2007-12-03  MUNDRAPORT     EQ      921.55  939.75   995.00  922.00   \n",
       "...            ...         ...    ...         ...     ...      ...     ...   \n",
       "235187  2021-04-26        ZEEL     EQ      188.00  190.60   191.10  185.10   \n",
       "235188  2021-04-27        ZEEL     EQ      186.40  188.00   192.95  186.80   \n",
       "235189  2021-04-28        ZEEL     EQ      188.15  188.80   190.60  187.10   \n",
       "235190  2021-04-29        ZEEL     EQ      189.10  190.80   191.65  186.00   \n",
       "235191  2021-04-30        ZEEL     EQ      186.55  185.30   190.95  183.65   \n",
       "\n",
       "          Last   Close    VWAP    Volume      Turnover   Trades  \\\n",
       "0       959.00  962.90  984.72  27294366  2.687719e+15      NaN   \n",
       "1       885.00  893.90  941.38   4581338  4.312765e+14      NaN   \n",
       "2       887.00  884.20  888.09   5124121  4.550658e+14      NaN   \n",
       "3       929.00  921.55  929.17   4609762  4.283257e+14      NaN   \n",
       "4       980.00  969.30  965.65   2977470  2.875200e+14      NaN   \n",
       "...        ...     ...     ...       ...           ...      ...   \n",
       "235187  186.70  186.40  187.35   8542755  1.600451e+14  52374.0   \n",
       "235188  188.80  188.15  189.41  14247767  2.698636e+14  73673.0   \n",
       "235189  188.95  189.10  188.85   8429439  1.591917e+14  44056.0   \n",
       "235190  186.60  186.55  187.44   9483009  1.777471e+14  60932.0   \n",
       "235191  185.00  185.60  187.53  11435285  2.144440e+14  62607.0   \n",
       "\n",
       "        Deliverable Volume  %Deliverble  \n",
       "0                9859619.0       0.3612  \n",
       "1                1453278.0       0.3172  \n",
       "2                1069678.0       0.2088  \n",
       "3                1260913.0       0.2735  \n",
       "4                 816123.0       0.2741  \n",
       "...                    ...          ...  \n",
       "235187           2340188.0       0.2739  \n",
       "235188           5425957.0       0.3808  \n",
       "235189           2413974.0       0.2864  \n",
       "235190           2744472.0       0.2894  \n",
       "235191           3323909.0       0.2907  \n",
       "\n",
       "[235192 rows x 15 columns]"
      ]
     },
     "execution_count": 3,
     "metadata": {},
     "output_type": "execute_result"
    }
   ],
   "source": [
    "data = pd.read_csv('NIFTY50_all.csv')"
   ]
  },
  {
   "cell_type": "code",
   "execution_count": 24,
   "id": "bc671118",
   "metadata": {},
   "outputs": [
    {
     "data": {
      "text/html": [
       "<div>\n",
       "<style scoped>\n",
       "    .dataframe tbody tr th:only-of-type {\n",
       "        vertical-align: middle;\n",
       "    }\n",
       "\n",
       "    .dataframe tbody tr th {\n",
       "        vertical-align: top;\n",
       "    }\n",
       "\n",
       "    .dataframe thead th {\n",
       "        text-align: right;\n",
       "    }\n",
       "</style>\n",
       "<table border=\"1\" class=\"dataframe\">\n",
       "  <thead>\n",
       "    <tr style=\"text-align: right;\">\n",
       "      <th></th>\n",
       "      <th>Date</th>\n",
       "      <th>Symbol</th>\n",
       "      <th>Series</th>\n",
       "      <th>Prev Close</th>\n",
       "      <th>Open</th>\n",
       "      <th>High</th>\n",
       "      <th>Low</th>\n",
       "      <th>Last</th>\n",
       "      <th>Close</th>\n",
       "      <th>VWAP</th>\n",
       "      <th>Volume</th>\n",
       "      <th>Turnover</th>\n",
       "      <th>Trades</th>\n",
       "      <th>Deliverable Volume</th>\n",
       "      <th>%Deliverble</th>\n",
       "      <th>days_elapsed</th>\n",
       "    </tr>\n",
       "  </thead>\n",
       "  <tbody>\n",
       "    <tr>\n",
       "      <th>75059</th>\n",
       "      <td>2000-01-03</td>\n",
       "      <td>HDFC</td>\n",
       "      <td>EQ</td>\n",
       "      <td>271.75</td>\n",
       "      <td>293.5</td>\n",
       "      <td>293.50</td>\n",
       "      <td>293.5</td>\n",
       "      <td>293.50</td>\n",
       "      <td>293.50</td>\n",
       "      <td>293.50</td>\n",
       "      <td>22744</td>\n",
       "      <td>6.675364e+11</td>\n",
       "      <td>NaN</td>\n",
       "      <td>NaN</td>\n",
       "      <td>NaN</td>\n",
       "      <td>0</td>\n",
       "    </tr>\n",
       "    <tr>\n",
       "      <th>117186</th>\n",
       "      <td>2000-01-03</td>\n",
       "      <td>IOC</td>\n",
       "      <td>EQ</td>\n",
       "      <td>254.00</td>\n",
       "      <td>260.0</td>\n",
       "      <td>273.25</td>\n",
       "      <td>250.0</td>\n",
       "      <td>267.35</td>\n",
       "      <td>270.85</td>\n",
       "      <td>258.55</td>\n",
       "      <td>23700</td>\n",
       "      <td>6.127648e+11</td>\n",
       "      <td>NaN</td>\n",
       "      <td>NaN</td>\n",
       "      <td>NaN</td>\n",
       "      <td>0</td>\n",
       "    </tr>\n",
       "    <tr>\n",
       "      <th>224580</th>\n",
       "      <td>2000-01-03</td>\n",
       "      <td>WIPRO</td>\n",
       "      <td>EQ</td>\n",
       "      <td>2522.40</td>\n",
       "      <td>2724.0</td>\n",
       "      <td>2724.20</td>\n",
       "      <td>2724.0</td>\n",
       "      <td>2724.20</td>\n",
       "      <td>2724.20</td>\n",
       "      <td>2724.17</td>\n",
       "      <td>1599</td>\n",
       "      <td>4.355942e+11</td>\n",
       "      <td>NaN</td>\n",
       "      <td>NaN</td>\n",
       "      <td>NaN</td>\n",
       "      <td>0</td>\n",
       "    </tr>\n",
       "    <tr>\n",
       "      <th>187156</th>\n",
       "      <td>2000-01-03</td>\n",
       "      <td>TELCO</td>\n",
       "      <td>EQ</td>\n",
       "      <td>201.60</td>\n",
       "      <td>207.4</td>\n",
       "      <td>217.25</td>\n",
       "      <td>207.4</td>\n",
       "      <td>217.00</td>\n",
       "      <td>216.75</td>\n",
       "      <td>214.28</td>\n",
       "      <td>676126</td>\n",
       "      <td>1.448775e+13</td>\n",
       "      <td>NaN</td>\n",
       "      <td>NaN</td>\n",
       "      <td>NaN</td>\n",
       "      <td>0</td>\n",
       "    </tr>\n",
       "    <tr>\n",
       "      <th>205542</th>\n",
       "      <td>2000-01-03</td>\n",
       "      <td>TITAN</td>\n",
       "      <td>EQ</td>\n",
       "      <td>144.95</td>\n",
       "      <td>146.0</td>\n",
       "      <td>156.45</td>\n",
       "      <td>146.0</td>\n",
       "      <td>155.00</td>\n",
       "      <td>155.70</td>\n",
       "      <td>154.36</td>\n",
       "      <td>23000</td>\n",
       "      <td>3.550370e+11</td>\n",
       "      <td>NaN</td>\n",
       "      <td>NaN</td>\n",
       "      <td>NaN</td>\n",
       "      <td>0</td>\n",
       "    </tr>\n",
       "  </tbody>\n",
       "</table>\n",
       "</div>"
      ],
      "text/plain": [
       "             Date Symbol Series  Prev Close    Open     High     Low     Last  \\\n",
       "75059  2000-01-03   HDFC     EQ      271.75   293.5   293.50   293.5   293.50   \n",
       "117186 2000-01-03    IOC     EQ      254.00   260.0   273.25   250.0   267.35   \n",
       "224580 2000-01-03  WIPRO     EQ     2522.40  2724.0  2724.20  2724.0  2724.20   \n",
       "187156 2000-01-03  TELCO     EQ      201.60   207.4   217.25   207.4   217.00   \n",
       "205542 2000-01-03  TITAN     EQ      144.95   146.0   156.45   146.0   155.00   \n",
       "\n",
       "          Close     VWAP  Volume      Turnover  Trades  Deliverable Volume  \\\n",
       "75059    293.50   293.50   22744  6.675364e+11     NaN                 NaN   \n",
       "117186   270.85   258.55   23700  6.127648e+11     NaN                 NaN   \n",
       "224580  2724.20  2724.17    1599  4.355942e+11     NaN                 NaN   \n",
       "187156   216.75   214.28  676126  1.448775e+13     NaN                 NaN   \n",
       "205542   155.70   154.36   23000  3.550370e+11     NaN                 NaN   \n",
       "\n",
       "        %Deliverble  days_elapsed  \n",
       "75059           NaN             0  \n",
       "117186          NaN             0  \n",
       "224580          NaN             0  \n",
       "187156          NaN             0  \n",
       "205542          NaN             0  "
      ]
     },
     "execution_count": 24,
     "metadata": {},
     "output_type": "execute_result"
    }
   ],
   "source": [
    "data.head()"
   ]
  },
  {
   "cell_type": "code",
   "execution_count": 25,
   "id": "3a824e4a",
   "metadata": {},
   "outputs": [
    {
     "name": "stdout",
     "output_type": "stream",
     "text": [
      "<class 'pandas.core.frame.DataFrame'>\n",
      "Index: 235192 entries, 75059 to 235191\n",
      "Data columns (total 16 columns):\n",
      " #   Column              Non-Null Count   Dtype         \n",
      "---  ------              --------------   -----         \n",
      " 0   Date                235192 non-null  datetime64[ns]\n",
      " 1   Symbol              235192 non-null  object        \n",
      " 2   Series              235192 non-null  object        \n",
      " 3   Prev Close          235192 non-null  float64       \n",
      " 4   Open                235192 non-null  float64       \n",
      " 5   High                235192 non-null  float64       \n",
      " 6   Low                 235192 non-null  float64       \n",
      " 7   Last                235192 non-null  float64       \n",
      " 8   Close               235192 non-null  float64       \n",
      " 9   VWAP                235192 non-null  float64       \n",
      " 10  Volume              235192 non-null  int64         \n",
      " 11  Turnover            235192 non-null  float64       \n",
      " 12  Trades              120344 non-null  float64       \n",
      " 13  Deliverable Volume  219115 non-null  float64       \n",
      " 14  %Deliverble         219115 non-null  float64       \n",
      " 15  days_elapsed        235192 non-null  int64         \n",
      "dtypes: datetime64[ns](1), float64(11), int64(2), object(2)\n",
      "memory usage: 30.5+ MB\n"
     ]
    }
   ],
   "source": [
    "data.info()"
   ]
  },
  {
   "cell_type": "code",
   "execution_count": 26,
   "id": "6db90f38",
   "metadata": {},
   "outputs": [
    {
     "data": {
      "text/html": [
       "<div>\n",
       "<style scoped>\n",
       "    .dataframe tbody tr th:only-of-type {\n",
       "        vertical-align: middle;\n",
       "    }\n",
       "\n",
       "    .dataframe tbody tr th {\n",
       "        vertical-align: top;\n",
       "    }\n",
       "\n",
       "    .dataframe thead th {\n",
       "        text-align: right;\n",
       "    }\n",
       "</style>\n",
       "<table border=\"1\" class=\"dataframe\">\n",
       "  <thead>\n",
       "    <tr style=\"text-align: right;\">\n",
       "      <th></th>\n",
       "      <th>Date</th>\n",
       "      <th>Prev Close</th>\n",
       "      <th>Open</th>\n",
       "      <th>High</th>\n",
       "      <th>Low</th>\n",
       "      <th>Last</th>\n",
       "      <th>Close</th>\n",
       "      <th>VWAP</th>\n",
       "      <th>Volume</th>\n",
       "      <th>Turnover</th>\n",
       "      <th>Trades</th>\n",
       "      <th>Deliverable Volume</th>\n",
       "      <th>%Deliverble</th>\n",
       "      <th>days_elapsed</th>\n",
       "    </tr>\n",
       "  </thead>\n",
       "  <tbody>\n",
       "    <tr>\n",
       "      <th>count</th>\n",
       "      <td>235192</td>\n",
       "      <td>235192.000000</td>\n",
       "      <td>235192.000000</td>\n",
       "      <td>235192.000000</td>\n",
       "      <td>235192.000000</td>\n",
       "      <td>235192.000000</td>\n",
       "      <td>235192.000000</td>\n",
       "      <td>235192.00000</td>\n",
       "      <td>2.351920e+05</td>\n",
       "      <td>2.351920e+05</td>\n",
       "      <td>1.203440e+05</td>\n",
       "      <td>2.191150e+05</td>\n",
       "      <td>219115.000000</td>\n",
       "      <td>235192.000000</td>\n",
       "    </tr>\n",
       "    <tr>\n",
       "      <th>mean</th>\n",
       "      <td>2011-05-22 13:18:08.975815424</td>\n",
       "      <td>1266.196349</td>\n",
       "      <td>1267.759708</td>\n",
       "      <td>1286.581440</td>\n",
       "      <td>1247.488465</td>\n",
       "      <td>1266.388302</td>\n",
       "      <td>1266.554351</td>\n",
       "      <td>1267.13230</td>\n",
       "      <td>3.045903e+06</td>\n",
       "      <td>1.610138e+14</td>\n",
       "      <td>6.196427e+04</td>\n",
       "      <td>1.315098e+06</td>\n",
       "      <td>0.502997</td>\n",
       "      <td>4157.554271</td>\n",
       "    </tr>\n",
       "    <tr>\n",
       "      <th>min</th>\n",
       "      <td>2000-01-03 00:00:00</td>\n",
       "      <td>0.000000</td>\n",
       "      <td>8.500000</td>\n",
       "      <td>9.750000</td>\n",
       "      <td>8.500000</td>\n",
       "      <td>9.100000</td>\n",
       "      <td>9.150000</td>\n",
       "      <td>9.21000</td>\n",
       "      <td>3.000000e+00</td>\n",
       "      <td>1.047000e+07</td>\n",
       "      <td>1.100000e+01</td>\n",
       "      <td>5.000000e+00</td>\n",
       "      <td>0.023600</td>\n",
       "      <td>0.000000</td>\n",
       "    </tr>\n",
       "    <tr>\n",
       "      <th>25%</th>\n",
       "      <td>2006-07-03 00:00:00</td>\n",
       "      <td>274.300000</td>\n",
       "      <td>275.000000</td>\n",
       "      <td>279.500000</td>\n",
       "      <td>269.600000</td>\n",
       "      <td>274.400000</td>\n",
       "      <td>274.350000</td>\n",
       "      <td>274.69750</td>\n",
       "      <td>2.190095e+05</td>\n",
       "      <td>1.612816e+13</td>\n",
       "      <td>2.183400e+04</td>\n",
       "      <td>1.253830e+05</td>\n",
       "      <td>0.364700</td>\n",
       "      <td>2373.000000</td>\n",
       "    </tr>\n",
       "    <tr>\n",
       "      <th>50%</th>\n",
       "      <td>2011-08-19 00:00:00</td>\n",
       "      <td>566.500000</td>\n",
       "      <td>567.025000</td>\n",
       "      <td>576.900000</td>\n",
       "      <td>556.500000</td>\n",
       "      <td>567.000000</td>\n",
       "      <td>566.700000</td>\n",
       "      <td>566.94000</td>\n",
       "      <td>1.010938e+06</td>\n",
       "      <td>6.832603e+13</td>\n",
       "      <td>4.406800e+04</td>\n",
       "      <td>5.017560e+05</td>\n",
       "      <td>0.511000</td>\n",
       "      <td>4246.000000</td>\n",
       "    </tr>\n",
       "    <tr>\n",
       "      <th>75%</th>\n",
       "      <td>2016-06-24 00:00:00</td>\n",
       "      <td>1242.200000</td>\n",
       "      <td>1243.312500</td>\n",
       "      <td>1263.000000</td>\n",
       "      <td>1221.650000</td>\n",
       "      <td>1242.900000</td>\n",
       "      <td>1242.400000</td>\n",
       "      <td>1242.66250</td>\n",
       "      <td>3.019851e+06</td>\n",
       "      <td>1.863835e+14</td>\n",
       "      <td>7.893550e+04</td>\n",
       "      <td>1.452233e+06</td>\n",
       "      <td>0.638400</td>\n",
       "      <td>6017.000000</td>\n",
       "    </tr>\n",
       "    <tr>\n",
       "      <th>max</th>\n",
       "      <td>2021-04-30 00:00:00</td>\n",
       "      <td>32861.950000</td>\n",
       "      <td>33399.950000</td>\n",
       "      <td>33480.000000</td>\n",
       "      <td>32468.100000</td>\n",
       "      <td>32849.000000</td>\n",
       "      <td>32861.950000</td>\n",
       "      <td>32975.24000</td>\n",
       "      <td>4.810589e+08</td>\n",
       "      <td>3.564334e+16</td>\n",
       "      <td>1.643015e+06</td>\n",
       "      <td>2.325307e+08</td>\n",
       "      <td>1.000000</td>\n",
       "      <td>7788.000000</td>\n",
       "    </tr>\n",
       "    <tr>\n",
       "      <th>std</th>\n",
       "      <td>NaN</td>\n",
       "      <td>2581.370320</td>\n",
       "      <td>2585.259609</td>\n",
       "      <td>2619.649216</td>\n",
       "      <td>2546.621396</td>\n",
       "      <td>2581.392543</td>\n",
       "      <td>2582.140942</td>\n",
       "      <td>2582.69998</td>\n",
       "      <td>7.333981e+06</td>\n",
       "      <td>3.298085e+14</td>\n",
       "      <td>6.866457e+04</td>\n",
       "      <td>2.831670e+06</td>\n",
       "      <td>0.190019</td>\n",
       "      <td>2169.194335</td>\n",
       "    </tr>\n",
       "  </tbody>\n",
       "</table>\n",
       "</div>"
      ],
      "text/plain": [
       "                                Date     Prev Close           Open  \\\n",
       "count                         235192  235192.000000  235192.000000   \n",
       "mean   2011-05-22 13:18:08.975815424    1266.196349    1267.759708   \n",
       "min              2000-01-03 00:00:00       0.000000       8.500000   \n",
       "25%              2006-07-03 00:00:00     274.300000     275.000000   \n",
       "50%              2011-08-19 00:00:00     566.500000     567.025000   \n",
       "75%              2016-06-24 00:00:00    1242.200000    1243.312500   \n",
       "max              2021-04-30 00:00:00   32861.950000   33399.950000   \n",
       "std                              NaN    2581.370320    2585.259609   \n",
       "\n",
       "                High            Low           Last          Close  \\\n",
       "count  235192.000000  235192.000000  235192.000000  235192.000000   \n",
       "mean     1286.581440    1247.488465    1266.388302    1266.554351   \n",
       "min         9.750000       8.500000       9.100000       9.150000   \n",
       "25%       279.500000     269.600000     274.400000     274.350000   \n",
       "50%       576.900000     556.500000     567.000000     566.700000   \n",
       "75%      1263.000000    1221.650000    1242.900000    1242.400000   \n",
       "max     33480.000000   32468.100000   32849.000000   32861.950000   \n",
       "std      2619.649216    2546.621396    2581.392543    2582.140942   \n",
       "\n",
       "               VWAP        Volume      Turnover        Trades  \\\n",
       "count  235192.00000  2.351920e+05  2.351920e+05  1.203440e+05   \n",
       "mean     1267.13230  3.045903e+06  1.610138e+14  6.196427e+04   \n",
       "min         9.21000  3.000000e+00  1.047000e+07  1.100000e+01   \n",
       "25%       274.69750  2.190095e+05  1.612816e+13  2.183400e+04   \n",
       "50%       566.94000  1.010938e+06  6.832603e+13  4.406800e+04   \n",
       "75%      1242.66250  3.019851e+06  1.863835e+14  7.893550e+04   \n",
       "max     32975.24000  4.810589e+08  3.564334e+16  1.643015e+06   \n",
       "std      2582.69998  7.333981e+06  3.298085e+14  6.866457e+04   \n",
       "\n",
       "       Deliverable Volume    %Deliverble   days_elapsed  \n",
       "count        2.191150e+05  219115.000000  235192.000000  \n",
       "mean         1.315098e+06       0.502997    4157.554271  \n",
       "min          5.000000e+00       0.023600       0.000000  \n",
       "25%          1.253830e+05       0.364700    2373.000000  \n",
       "50%          5.017560e+05       0.511000    4246.000000  \n",
       "75%          1.452233e+06       0.638400    6017.000000  \n",
       "max          2.325307e+08       1.000000    7788.000000  \n",
       "std          2.831670e+06       0.190019    2169.194335  "
      ]
     },
     "execution_count": 26,
     "metadata": {},
     "output_type": "execute_result"
    }
   ],
   "source": [
    "data.describe()"
   ]
  },
  {
   "cell_type": "code",
   "execution_count": 28,
   "id": "efd8dccc",
   "metadata": {},
   "outputs": [
    {
     "data": {
      "text/plain": [
       "Index(['Date', 'Symbol', 'Series', 'Prev Close', 'Open', 'High', 'Low', 'Last',\n",
       "       'Close', 'VWAP', 'Volume', 'Turnover', 'Trades', 'Deliverable Volume',\n",
       "       '%Deliverble', 'days_elapsed'],\n",
       "      dtype='object')"
      ]
     },
     "execution_count": 28,
     "metadata": {},
     "output_type": "execute_result"
    }
   ],
   "source": [
    "data.columns"
   ]
  },
  {
   "cell_type": "code",
   "execution_count": 4,
   "id": "f7a1a68a",
   "metadata": {},
   "outputs": [],
   "source": [
    "data['Date'] = pd.to_datetime(data['Date'])"
   ]
  },
  {
   "cell_type": "code",
   "execution_count": 5,
   "id": "66098729",
   "metadata": {},
   "outputs": [
    {
     "data": {
      "text/plain": [
       "0        2007-11-27\n",
       "1        2007-11-28\n",
       "2        2007-11-29\n",
       "3        2007-11-30\n",
       "4        2007-12-03\n",
       "            ...    \n",
       "235187   2021-04-26\n",
       "235188   2021-04-27\n",
       "235189   2021-04-28\n",
       "235190   2021-04-29\n",
       "235191   2021-04-30\n",
       "Name: Date, Length: 235192, dtype: datetime64[ns]"
      ]
     },
     "execution_count": 5,
     "metadata": {},
     "output_type": "execute_result"
    }
   ],
   "source": [
    "data['Date']"
   ]
  },
  {
   "cell_type": "code",
   "execution_count": 6,
   "id": "5214d49a",
   "metadata": {},
   "outputs": [],
   "source": [
    "data.sort_values(by='Date', inplace=True)"
   ]
  },
  {
   "cell_type": "code",
   "execution_count": 7,
   "id": "b3a4430d",
   "metadata": {},
   "outputs": [],
   "source": [
    "data['days_elapsed'] = (data['Date'] - data['Date'].min()).dt.days\n",
    "X = data[['days_elapsed']].values"
   ]
  },
  {
   "cell_type": "code",
   "execution_count": 8,
   "id": "4bd5ce82",
   "metadata": {},
   "outputs": [
    {
     "data": {
      "text/plain": [
       "75059        0\n",
       "117186       0\n",
       "224580       0\n",
       "187156       0\n",
       "205542       0\n",
       "          ... \n",
       "136776    7788\n",
       "13933     7788\n",
       "201906    7788\n",
       "146266    7788\n",
       "235191    7788\n",
       "Name: days_elapsed, Length: 235192, dtype: int64"
      ]
     },
     "execution_count": 8,
     "metadata": {},
     "output_type": "execute_result"
    }
   ],
   "source": [
    "data['days_elapsed']"
   ]
  },
  {
   "cell_type": "code",
   "execution_count": 9,
   "id": "6016e0f2",
   "metadata": {},
   "outputs": [
    {
     "data": {
      "text/plain": [
       "array([[   0],\n",
       "       [   0],\n",
       "       [   0],\n",
       "       ...,\n",
       "       [7788],\n",
       "       [7788],\n",
       "       [7788]], dtype=int64)"
      ]
     },
     "execution_count": 9,
     "metadata": {},
     "output_type": "execute_result"
    }
   ],
   "source": [
    "X"
   ]
  },
  {
   "cell_type": "code",
   "execution_count": 10,
   "id": "4d854e0f",
   "metadata": {},
   "outputs": [],
   "source": [
    "y = data['Close'].values"
   ]
  },
  {
   "cell_type": "code",
   "execution_count": 11,
   "id": "42737222",
   "metadata": {},
   "outputs": [
    {
     "data": {
      "text/plain": [
       "array([ 293.5 ,  270.85, 2724.2 , ..., 3035.65,  752.55,  185.6 ])"
      ]
     },
     "execution_count": 11,
     "metadata": {},
     "output_type": "execute_result"
    }
   ],
   "source": [
    "y"
   ]
  },
  {
   "cell_type": "code",
   "execution_count": 12,
   "id": "57b5ffc0",
   "metadata": {},
   "outputs": [],
   "source": [
    "X_train, X_test, y_train, y_test = train_test_split(X, y, test_size=0.2, random_state=42)"
   ]
  },
  {
   "cell_type": "code",
   "execution_count": 13,
   "id": "b665a38d",
   "metadata": {},
   "outputs": [
    {
     "data": {
      "text/plain": [
       "(array([[1736],\n",
       "        [4284],\n",
       "        [3921],\n",
       "        ...,\n",
       "        [4673],\n",
       "        [5121],\n",
       "        [4382]], dtype=int64),\n",
       " array([[3157],\n",
       "        [5391],\n",
       "        [5987],\n",
       "        ...,\n",
       "        [1542],\n",
       "        [6300],\n",
       "        [6939]], dtype=int64),\n",
       " array([ 453.3 ,  328.9 ,  434.45, ..., 2302.45,  874.55, 1009.05]),\n",
       " array([ 224.1 ,  258.5 , 1207.05, ...,  419.3 , 1181.75, 1784.6 ]))"
      ]
     },
     "execution_count": 13,
     "metadata": {},
     "output_type": "execute_result"
    }
   ],
   "source": [
    "X_train, X_test, y_train, y_test"
   ]
  },
  {
   "cell_type": "code",
   "execution_count": 15,
   "id": "4e32279b",
   "metadata": {},
   "outputs": [],
   "source": [
    "model = LinearRegression()"
   ]
  },
  {
   "cell_type": "code",
   "execution_count": 16,
   "id": "9e9e4ecf",
   "metadata": {},
   "outputs": [
    {
     "data": {
      "text/html": [
       "<style>#sk-container-id-1 {color: black;background-color: white;}#sk-container-id-1 pre{padding: 0;}#sk-container-id-1 div.sk-toggleable {background-color: white;}#sk-container-id-1 label.sk-toggleable__label {cursor: pointer;display: block;width: 100%;margin-bottom: 0;padding: 0.3em;box-sizing: border-box;text-align: center;}#sk-container-id-1 label.sk-toggleable__label-arrow:before {content: \"▸\";float: left;margin-right: 0.25em;color: #696969;}#sk-container-id-1 label.sk-toggleable__label-arrow:hover:before {color: black;}#sk-container-id-1 div.sk-estimator:hover label.sk-toggleable__label-arrow:before {color: black;}#sk-container-id-1 div.sk-toggleable__content {max-height: 0;max-width: 0;overflow: hidden;text-align: left;background-color: #f0f8ff;}#sk-container-id-1 div.sk-toggleable__content pre {margin: 0.2em;color: black;border-radius: 0.25em;background-color: #f0f8ff;}#sk-container-id-1 input.sk-toggleable__control:checked~div.sk-toggleable__content {max-height: 200px;max-width: 100%;overflow: auto;}#sk-container-id-1 input.sk-toggleable__control:checked~label.sk-toggleable__label-arrow:before {content: \"▾\";}#sk-container-id-1 div.sk-estimator input.sk-toggleable__control:checked~label.sk-toggleable__label {background-color: #d4ebff;}#sk-container-id-1 div.sk-label input.sk-toggleable__control:checked~label.sk-toggleable__label {background-color: #d4ebff;}#sk-container-id-1 input.sk-hidden--visually {border: 0;clip: rect(1px 1px 1px 1px);clip: rect(1px, 1px, 1px, 1px);height: 1px;margin: -1px;overflow: hidden;padding: 0;position: absolute;width: 1px;}#sk-container-id-1 div.sk-estimator {font-family: monospace;background-color: #f0f8ff;border: 1px dotted black;border-radius: 0.25em;box-sizing: border-box;margin-bottom: 0.5em;}#sk-container-id-1 div.sk-estimator:hover {background-color: #d4ebff;}#sk-container-id-1 div.sk-parallel-item::after {content: \"\";width: 100%;border-bottom: 1px solid gray;flex-grow: 1;}#sk-container-id-1 div.sk-label:hover label.sk-toggleable__label {background-color: #d4ebff;}#sk-container-id-1 div.sk-serial::before {content: \"\";position: absolute;border-left: 1px solid gray;box-sizing: border-box;top: 0;bottom: 0;left: 50%;z-index: 0;}#sk-container-id-1 div.sk-serial {display: flex;flex-direction: column;align-items: center;background-color: white;padding-right: 0.2em;padding-left: 0.2em;position: relative;}#sk-container-id-1 div.sk-item {position: relative;z-index: 1;}#sk-container-id-1 div.sk-parallel {display: flex;align-items: stretch;justify-content: center;background-color: white;position: relative;}#sk-container-id-1 div.sk-item::before, #sk-container-id-1 div.sk-parallel-item::before {content: \"\";position: absolute;border-left: 1px solid gray;box-sizing: border-box;top: 0;bottom: 0;left: 50%;z-index: -1;}#sk-container-id-1 div.sk-parallel-item {display: flex;flex-direction: column;z-index: 1;position: relative;background-color: white;}#sk-container-id-1 div.sk-parallel-item:first-child::after {align-self: flex-end;width: 50%;}#sk-container-id-1 div.sk-parallel-item:last-child::after {align-self: flex-start;width: 50%;}#sk-container-id-1 div.sk-parallel-item:only-child::after {width: 0;}#sk-container-id-1 div.sk-dashed-wrapped {border: 1px dashed gray;margin: 0 0.4em 0.5em 0.4em;box-sizing: border-box;padding-bottom: 0.4em;background-color: white;}#sk-container-id-1 div.sk-label label {font-family: monospace;font-weight: bold;display: inline-block;line-height: 1.2em;}#sk-container-id-1 div.sk-label-container {text-align: center;}#sk-container-id-1 div.sk-container {/* jupyter's `normalize.less` sets `[hidden] { display: none; }` but bootstrap.min.css set `[hidden] { display: none !important; }` so we also need the `!important` here to be able to override the default hidden behavior on the sphinx rendered scikit-learn.org. See: https://github.com/scikit-learn/scikit-learn/issues/21755 */display: inline-block !important;position: relative;}#sk-container-id-1 div.sk-text-repr-fallback {display: none;}</style><div id=\"sk-container-id-1\" class=\"sk-top-container\"><div class=\"sk-text-repr-fallback\"><pre>LinearRegression()</pre><b>In a Jupyter environment, please rerun this cell to show the HTML representation or trust the notebook. <br />On GitHub, the HTML representation is unable to render, please try loading this page with nbviewer.org.</b></div><div class=\"sk-container\" hidden><div class=\"sk-item\"><div class=\"sk-estimator sk-toggleable\"><input class=\"sk-toggleable__control sk-hidden--visually\" id=\"sk-estimator-id-1\" type=\"checkbox\" checked><label for=\"sk-estimator-id-1\" class=\"sk-toggleable__label sk-toggleable__label-arrow\">LinearRegression</label><div class=\"sk-toggleable__content\"><pre>LinearRegression()</pre></div></div></div></div></div>"
      ],
      "text/plain": [
       "LinearRegression()"
      ]
     },
     "execution_count": 16,
     "metadata": {},
     "output_type": "execute_result"
    }
   ],
   "source": [
    "model.fit(X_train, y_train)"
   ]
  },
  {
   "cell_type": "code",
   "execution_count": 17,
   "id": "867a5d98",
   "metadata": {},
   "outputs": [],
   "source": [
    "y_pred = model.predict(X_test)"
   ]
  },
  {
   "cell_type": "code",
   "execution_count": 18,
   "id": "ecd59817",
   "metadata": {},
   "outputs": [
    {
     "data": {
      "text/plain": [
       "array([ 978.18024415, 1625.33717499, 1797.98960596, ...,  510.33850588,\n",
       "       1888.66110075, 2073.76999905])"
      ]
     },
     "execution_count": 18,
     "metadata": {},
     "output_type": "execute_result"
    }
   ],
   "source": [
    "y_pred"
   ]
  },
  {
   "cell_type": "code",
   "execution_count": 19,
   "id": "9e8eae42",
   "metadata": {},
   "outputs": [],
   "source": [
    "mse = mean_squared_error(y_test, y_pred)\n",
    "r_squared = r2_score(y_test, y_pred)"
   ]
  },
  {
   "cell_type": "code",
   "execution_count": 20,
   "id": "9ae3785b",
   "metadata": {},
   "outputs": [
    {
     "data": {
      "text/plain": [
       "6182729.882345343"
      ]
     },
     "execution_count": 20,
     "metadata": {},
     "output_type": "execute_result"
    }
   ],
   "source": [
    "mse"
   ]
  },
  {
   "cell_type": "code",
   "execution_count": 21,
   "id": "e4c90237",
   "metadata": {},
   "outputs": [
    {
     "data": {
      "text/plain": [
       "0.06087887249362278"
      ]
     },
     "execution_count": 21,
     "metadata": {},
     "output_type": "execute_result"
    }
   ],
   "source": [
    "r_squared"
   ]
  },
  {
   "cell_type": "code",
   "execution_count": 22,
   "id": "d802dba8",
   "metadata": {},
   "outputs": [
    {
     "name": "stdout",
     "output_type": "stream",
     "text": [
      "Mean Squared Error: 6182729.882345343\n",
      "R-squared: 0.06087887249362278\n"
     ]
    }
   ],
   "source": [
    "print(f\"Mean Squared Error: {mse}\")\n",
    "print(f\"R-squared: {r_squared}\")\n"
   ]
  },
  {
   "cell_type": "code",
   "execution_count": 23,
   "id": "3a3647f1",
   "metadata": {},
   "outputs": [
    {
     "data": {
      "image/png": "[encoded data removed]",
      "text/plain": [
       "<Figure size 1000x600 with 1 Axes>"
      ]
     },
     "metadata": {},
     "output_type": "display_data"
    }
   ],
   "source": [
    "plt.figure(figsize=(10, 6))\n",
    "plt.scatter(data['Date'], data['Close'], label='Actual')\n",
    "plt.plot(data['Date'].iloc[-len(y_pred):], y_pred, color='red', label='Predicted')\n",
    "plt.xlabel('Date')\n",
    "plt.ylabel('Closing Price')\n",
    "plt.legend()\n",
    "plt.show()"
   ]
  },
  {
   "cell_type": "code",
   "execution_count": null,
   "id": "c5118309",
   "metadata": {},
   "outputs": [],
   "source": []
  }
 ],
 "metadata": {
  "kernelspec": {
   "display_name": "Python 3 (ipykernel)",
   "language": "python",
   "name": "python3"
  },
  "language_info": {
   "codemirror_mode": {
    "name": "ipython",
    "version": 3
   },
   "file_extension": ".py",
   "mimetype": "text/x-python",
   "name": "python",
   "nbconvert_exporter": "python",
   "pygments_lexer": "ipython3",
   "version": "3.9.13"
  }
 },
 "nbformat": 4,
 "nbformat_minor": 5
}
